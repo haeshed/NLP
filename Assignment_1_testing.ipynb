{
  "cells": [
    {
      "cell_type": "markdown",
      "metadata": {
        "id": "FECp14-d_F2e"
      },
      "source": [
        "# Set up"
      ]
    },
    {
      "cell_type": "code",
      "execution_count": 15,
      "metadata": {
        "colab": {
          "base_uri": "https://localhost:8080/"
        },
        "id": "za-DgcYB_IQx",
        "outputId": "059907a1-acc3-4683-8294-93c72c99150a"
      },
      "outputs": [
        {
          "name": "stderr",
          "output_type": "stream",
          "text": [
            "fatal: destination path 'assignment_1' already exists and is not an empty directory.\n",
            "'mv' is not recognized as an internal or external command,\n",
            "operable program or batch file.\n",
            "'rm' is not recognized as an internal or external command,\n",
            "operable program or batch file.\n"
          ]
        }
      ],
      "source": [
        "!git clone https://github.com/NLP-Reichman/assignment_1.git\n",
        "!mv assignment_1/data data\n",
        "!rm assignment_1/ -r"
      ]
    },
    {
      "cell_type": "markdown",
      "metadata": {
        "id": "0i2bOXTB8Dvc"
      },
      "source": [
        "# Introduction\n",
        "In this assignment you will be creating tools for learning and testing language models. The corpora that you will be working with are lists of tweets in 8 different languages that use the Latin script. The data is provided either formatted as CSV or as JSON, for your convenience. The end goal is to write a set of tools that can detect the language of a given tweet.\n",
        "The relevant files are under the data folder:\n",
        "\n",
        "- en.csv (or the equivalent JSON file)\n",
        "- es.csv (or the equivalent JSON file)\n",
        "- fr.csv (or the equivalent JSON file)\n",
        "- in.csv (or the equivalent JSON file)\n",
        "- it.csv (or the equivalent JSON file)\n",
        "- nl.csv (or the equivalent JSON file)\n",
        "- pt.csv (or the equivalent JSON file)\n",
        "- tl.csv (or the equivalent JSON file)"
      ]
    },
    {
      "cell_type": "code",
      "execution_count": 16,
      "metadata": {
        "id": "1u1qR7iaq_GU"
      },
      "outputs": [],
      "source": [
        "import json\n",
        "# from google.colab import files\n",
        "import pandas as pd\n",
        "import numpy as np\n",
        "import glob\n",
        "import os\n",
        "import math\n",
        "from collections import Counter\n"
      ]
    },
    {
      "cell_type": "markdown",
      "metadata": {
        "id": "IHN0tWTurwkN"
      },
      "source": [
        "# Implementation"
      ]
    },
    {
      "cell_type": "markdown",
      "metadata": {
        "id": "i56aKA0K8adr"
      },
      "source": [
        "## Part 1\n",
        "Implement the function *preprocess* that iterates over all the data files and creates a single vocabulary, containing all the tokens in the data. Our token definition is a single UTF-8 encoded character. So, the vocabulary list is a simple Python list of all the characters that you see at least once in the data.\n",
        "\n",
        "Note - do NOT lowercase the sentences in whi HW."
      ]
    },
    {
      "cell_type": "code",
      "execution_count": 17,
      "metadata": {},
      "outputs": [],
      "source": [
        "# # load the csv file\n",
        "# df = pd.read_csv('assignment_1/data/en.csv')\n",
        "# df.head()\n",
        "# np.unique(df['tweet_text'].str.cat(sep=''))\n",
        "# len(''.join(set(df['tweet_text'].str.cat(sep=''))))\n",
        "\n"
      ]
    },
    {
      "cell_type": "code",
      "execution_count": 24,
      "metadata": {
        "id": "ws_5u7vRrg0o"
      },
      "outputs": [
        {
          "name": "stdout",
          "output_type": "stream",
          "text": [
            "             tweet_id                                         tweet_text\n",
            "0  845395018743459840  <start> RT @ONHERPERlOD: Boyfriends that take ...\n",
            "1  845395017917173760  <start> He got his surgery done today but he's...\n",
            "2  845395018760306693  <start> @levi_a1998 @mcluber29 I'm doing so mu...\n",
            "3  845395018336649216  <start> RT @Rt_YourFavBands: #BandsTournament2...\n",
            "4  845395018751856642  <start> #Merlin oh no she wanted to enchant hi...\n"
          ]
        },
        {
          "data": {
            "text/plain": [
              "1806"
            ]
          },
          "execution_count": 24,
          "metadata": {},
          "output_type": "execute_result"
        }
      ],
      "source": [
        "SOS = \"<start> \"\n",
        "EOS = \"</end>\"\n",
        "UNK = \"<UNK>\"\n",
        "\n",
        "def preprocess() -> list[str]:\n",
        "  '''\n",
        "  Return a list of characters, representing the shared vocabulary of all languages\n",
        "  '''\n",
        "  df = pd.concat(map(pd.read_csv, glob.glob('assignment_1/data/*.csv')))\n",
        "  # add SOS to the beginning of each tweet and EOS to the end\n",
        "  df['tweet_text'] = SOS + df['tweet_text'] + EOS\n",
        "  print(df.head())\n",
        "  unique_chars = list(''.join(set(df['tweet_text'].str.cat(sep=''))))\n",
        "\n",
        "  unique_chars = [SOS, EOS, UNK] + unique_chars\n",
        "  return unique_chars\n",
        "\n",
        "unique_chars = preprocess()\n",
        "V = len(unique_chars)\n",
        "V\n"
      ]
    },
    {
      "cell_type": "markdown",
      "metadata": {
        "id": "tpjtwHW08jyH"
      },
      "source": [
        "## Part 2\n",
        "Implement the function *lm* that generates a language model from a textual corpus. The function should return a dictionary (representing a model) where the keys are all the relevant *n*-1 sequences, and the values are dictionaries with the *n*_th tokens and their corresponding probabilities to occur. For example, for a trigram model (tokens are characters), it should look something like:\n",
        "\n",
        "{ \"ab\":{\"c\":0.5, \"b\":0.25, \"d\":0.25}, \"ca\":{\"a\":0.2, \"b\":0.7, \"d\":0.1} }\n",
        "\n",
        "which means for example that after the sequence \"ab\", there is a 0.5 chance that \"c\" will appear, 0.25 for \"b\" to appear and 0.25 for \"d\" to appear.\n",
        "\n",
        "Note - You should think how to add the add_one smoothing information to the dictionary and implement it."
      ]
    },
    {
      "cell_type": "code",
      "execution_count": 30,
      "metadata": {
        "id": "uySEXdEUrkq_"
      },
      "outputs": [],
      "source": [
        "def lm(lang: str, n: int) -> dict[str, dict[str, float]]:\n",
        "    '''\n",
        "    Return a language model for the given lang and n_gram (n)\n",
        "    :param lang: the language of the model\n",
        "    :param n: the n_gram value\n",
        "    :return: a dictionary where the keys are n_grams and the values are dictionaries\n",
        "    '''\n",
        "    df = pd.read_csv('assignment_1/data/' + lang + '.csv')\n",
        "    # print(df.head())\n",
        "    text = ''.join(df['tweet_text'].str.cat(sep=''))\n",
        "\n",
        "    lm = {}\n",
        "\n",
        "    for i in range(len(text)-n):\n",
        "        ngram = text[i:i+n-1]\n",
        "        suffix = text[i+n-1]\n",
        "\n",
        "        if ngram not in lm:\n",
        "            lm[ngram] = {}\n",
        "            lm[ngram][suffix] = 1\n",
        "\n",
        "        else:\n",
        "            if suffix in lm[ngram]:\n",
        "                lm[ngram][suffix] += 1\n",
        "            else:\n",
        "                lm[ngram][suffix] = 1\n",
        "\n",
        "    # print(lm)\n",
        "\n",
        "    for ngram in lm:\n",
        "        sum_ngram = sum(lm[ngram].values())\n",
        "        for suffix in lm[ngram]:\n",
        "            lm[ngram][suffix] = lm[ngram][suffix] / sum_ngram\n",
        "\n",
        "    # print(lm)\n",
        "\n",
        "    return lm\n",
        "\n",
        "\n",
        "ngrams = lm('en', 3)\n"
      ]
    },
    {
      "cell_type": "code",
      "execution_count": 20,
      "metadata": {},
      "outputs": [],
      "source": [
        "# test_model = lm('en', 3)\n",
        "# test_prompt = 'how are you'\n",
        "# print(sorted(test_model[test_prompt[-2:]].items(), key=lambda x: x[1], reverse=True))\n",
        "# word = np.random.choice(list(test_model[test_prompt[-2:]].keys()), 10, list(test_model[test_prompt[-2:]].values()))\n",
        "# print(word)\n",
        "# freq_dict = {}\n",
        "# for i in range(10000):\n",
        "#     word = np.random.choice(list(test_model[test_prompt[-2:]].keys()), 1, list(test_model[test_prompt[-2:]].values()))\n",
        "#     word = str(word[0])\n",
        "#     if word not in freq_dict:\n",
        "#         freq_dict[word] = 1\n",
        "#     else: freq_dict[word] += 1\n",
        "\n",
        "# print(sorted(freq_dict.items(), key=lambda x: x[1], reverse=True))\n",
        "\n",
        "# print(type(str(word[0])))\n"
      ]
    },
    {
      "cell_type": "code",
      "execution_count": 21,
      "metadata": {},
      "outputs": [],
      "source": [
        "\n",
        "# freq_dict = {}\n",
        "# for i in range(10000):\n",
        "#     word = random_from_distribution_dict(test_model[test_prompt[-2:]])\n",
        "#     if word not in freq_dict:\n",
        "#         freq_dict[word] = 1\n",
        "#     else: freq_dict[word] += 1\n",
        "\n",
        "# print(sorted(freq_dict.items(), key=lambda x: x[1], reverse=True))\n"
      ]
    },
    {
      "cell_type": "code",
      "execution_count": 28,
      "metadata": {},
      "outputs": [
        {
          "data": {
            "text/plain": [
              "-460.51701859880916"
            ]
          },
          "execution_count": 28,
          "metadata": {},
          "output_type": "execute_result"
        }
      ],
      "source": [
        "math.log(1e-100)+math.log(1e-100)"
      ]
    },
    {
      "cell_type": "code",
      "execution_count": 29,
      "metadata": {},
      "outputs": [
        {
          "data": {
            "text/plain": [
              "1.6770203186015345e-200"
            ]
          },
          "execution_count": 29,
          "metadata": {},
          "output_type": "execute_result"
        }
      ],
      "source": [
        "math.exp(-460)"
      ]
    },
    {
      "cell_type": "markdown",
      "metadata": {
        "id": "xwZnk7Ke8rW5"
      },
      "source": [
        "## Part 3\n",
        "Implement the function *eval* that returns the perplexity of a model (dictionary) running over the data file of the given target language."
      ]
    },
    {
      "cell_type": "code",
      "execution_count": 22,
      "metadata": {
        "id": "ef-EglxXrmk2"
      },
      "outputs": [
        {
          "data": {
            "text/plain": [
              "7.162437156195358"
            ]
          },
          "execution_count": 22,
          "metadata": {},
          "output_type": "execute_result"
        }
      ],
      "source": [
        "def eval(model: dict, target_lang: str) -> float:\n",
        "  '''\n",
        "  Return the perplexity value calculated over applying the model on the text file\n",
        "  of the target_lang language.\n",
        "  :param model: the language model\n",
        "  :param target_lang: the target language\n",
        "  :return: the perplexity value\n",
        "  '''\n",
        "  df = pd.read_csv('assignment_1/data/' + target_lang + '.csv')\n",
        "  # for row in df.iterrows():\n",
        "  #   print(row)\n",
        "  sum_perplexity = 0\n",
        "  for index, row in df.iterrows():\n",
        "    # print(row['tweet_text'])\n",
        "    sum_perplexity += perplexity3(row['tweet_text'], model)\n",
        "  \n",
        "  sum_perplexity /= (len(df) - 1)\n",
        "  return sum_perplexity\n",
        "\n",
        "def perplexity(sentence, model):\n",
        "  n = len(next(iter((model))))\n",
        "  length = len(sentence)\n",
        "  perp = 1\n",
        "\n",
        "  for i in range(len(sentence)-n):\n",
        "    ngram = sentence[i:i+n]\n",
        "    suffix = sentence[i+n]\n",
        "    # print(ngram, suffix)\n",
        "\n",
        "    if ngram in model:\n",
        "      if suffix in model[ngram]:\n",
        "        perp *= model[ngram][suffix]\n",
        "      else: perp *= 1/V\n",
        "    else: perp *= 1/V\n",
        "  print(sentence)\n",
        "  # if perp == 0: return 1\n",
        "  perp = 1/perp\n",
        "  perp = perp**(1/length)\n",
        "  return perp\n",
        "\n",
        "def perplexity2(sentence, model):\n",
        "  n = len(next(iter((model))))\n",
        "  length = len(sentence)\n",
        "  min_prob = math.log(1/V)\n",
        "  perp = 0.0\n",
        "\n",
        "  for i in range(len(sentence)-n):\n",
        "    ngram = sentence[i:i+n]\n",
        "    suffix = sentence[i+n]\n",
        "    # print(ngram, suffix)\n",
        "\n",
        "    if ngram in model:\n",
        "      if suffix in model[ngram]:\n",
        "        perp += np.log(model[ngram][suffix])\n",
        "      else: perp += min_prob\n",
        "    else: perp += min_prob\n",
        "  perp = np.exp(perp)\n",
        "  perp = perp/length\n",
        "  return perp\n",
        "  \n",
        "def perplexity3(sentence, ngram_model):\n",
        "    n = len(list(ngram_model.keys())[0])  # Get the value of n from the ngram model\n",
        "    sentence = '<' + sentence + '>'  # Add < and > as start and end symbols\n",
        "\n",
        "    # Initialize variables to store the total log probability and count of n-grams\n",
        "    log_probability_sum = 0\n",
        "    ngram_count = 0\n",
        "\n",
        "    # Iterate over the sentence to calculate the perplexity\n",
        "    for i in range(len(sentence) - n + 1):\n",
        "        # Get the n-gram from the sentence\n",
        "        ngram = sentence[i:i+n]\n",
        "        \n",
        "        # Check if the n-gram exists in the model\n",
        "        if ngram in ngram_model:\n",
        "            # Get the probability distribution for the n-gram\n",
        "            probabilities = ngram_model[ngram]\n",
        "            \n",
        "            # Check if the next character exists in the probability distribution\n",
        "            next_char = sentence[i+n]\n",
        "            if next_char in probabilities:\n",
        "                # Calculate the log probability of the n-gram\n",
        "                log_probability = math.log(probabilities[next_char])\n",
        "                log_probability_sum += log_probability\n",
        "                ngram_count += 1\n",
        "            else:\n",
        "                # If the next character is not in the distribution, add a small value to avoid log(0)\n",
        "                log_probability_sum += math.log(1e-10)\n",
        "                ngram_count += 1\n",
        "        else:\n",
        "            # If the n-gram is not in the model, add a small value to avoid log(0)\n",
        "            log_probability_sum += math.log(1e-10)\n",
        "            ngram_count += 1\n",
        "\n",
        "    # Calculate the average log probability\n",
        "    average_log_probability = log_probability_sum / ngram_count\n",
        "\n",
        "    # Calculate perplexity\n",
        "    perplexity = math.exp(-average_log_probability)\n",
        "\n",
        "    return perplexity\n",
        "\n",
        "\n",
        "# perplexity2('RT @_xM_G_W_Vx_: ＲＥＴＷＥＥＴ  ＯＮＬＹ  ＩＦ   ＹＯＵ  ✨Ｆ✨ 〡✨Ｏ✨ 〡〡✨Ｌ✨ 〡〡〡✨Ｌ✨ 〡〡✨Ｏ✨ 〡✨Ｗ✨ ✨Ｂ✨ 〡✨Ａ✨ 〡〡✨Ｃ✨ 〡〡〡✨Ｋ✨  #F4F #MGWV #RT2GAIN #FOLLOWTRICK  #FOLLOW…', ngrams)\n",
        "# perplexity2('RT @היי היי', ngrams)\n",
        "perplexity2('hello there friend', lm)\n",
        "# print(\"eval(ngrams, 'en') \", eval(lm('en', 3), 'en'))\n",
        "# print(\"eval(ngrams, 'es') \", eval(lm('es', 3), 'es'))\n",
        "# print(\"eval(ngrams, 'fr') \", eval(lm('fr', 3), 'fr'))\n",
        "# print(\"eval(ngrams, 'pt') \", eval(lm('pt', 3), 'pt'))\n",
        "# print(\"eval(ngrams, 'it') \", eval(lm('it', 3), 'it'))\n",
        "# print()\n",
        "# print(\"eval(ngram_false, 'en') \", eval(lm('en', 3), 'en'))\n",
        "# print(\"eval(ngram_false, 'en') \", eval(lm('en', 3), 'es'))\n",
        "# print(\"eval(ngram_false, 'en') \", eval(lm('en', 3), 'fr'))\n",
        "# print(\"eval(ngram_false, 'en') \", eval(lm('en', 3), 'pt'))\n",
        "# print(\"eval(ngram_false, 'en') \", eval(lm('en', 3), 'it'))\n",
        "# print()\n",
        "# print(\"eval(ngram_false, 'es') \", eval(lm('es', 3), 'es'))\n",
        "# print(\"eval(ngram_false, 'es') \", eval(lm('es', 3), 'en'))\n",
        "# print(\"eval(ngram_false, 'es') \", eval(lm('es', 3), 'fr'))\n",
        "# print(\"eval(ngram_false, 'es') \", eval(lm('es', 3), 'pt'))\n",
        "# print(\"eval(ngram_false, 'es') \", eval(lm('es', 3), 'it'))\n",
        "\n",
        "\n"
      ]
    },
    {
      "cell_type": "markdown",
      "metadata": {
        "id": "9ZYVc7hB84LP"
      },
      "source": [
        "## Part 4\n",
        "Implement the *match* function that calls *eval* using a specific value of *n* for every possible language pair among the languages we have data for. You should call *eval* for every language pair four times, with each call assign a different value for *n* (1-4). Each language pair is composed of the source language and the target language. Before you make the call, you need to call the *lm* function to create the language model for the source language. Then you can call *eval* with the language model and the target language. The function should return a pandas DataFrame with the following four columns: *source_lang*, *target_lang*, *n*, *perplexity*. The values for the first two columns are the two-letter language codes. The value for *n* is the *n* you use for generating the specific perplexity values which you should store in the forth column."
      ]
    },
    {
      "cell_type": "code",
      "execution_count": 23,
      "metadata": {
        "id": "16ew9aZWroPC"
      },
      "outputs": [
        {
          "ename": "IndexError",
          "evalue": "string index out of range",
          "output_type": "error",
          "traceback": [
            "\u001b[1;31m---------------------------------------------------------------------------\u001b[0m",
            "\u001b[1;31mIndexError\u001b[0m                                Traceback (most recent call last)",
            "Cell \u001b[1;32mIn[23], line 24\u001b[0m\n\u001b[0;32m     20\u001b[0m         data\u001b[38;5;241m.\u001b[39mappend([source_lang, target_lang, n, \u001b[38;5;28meval\u001b[39m(model, target_lang)])\n\u001b[0;32m     22\u001b[0m   \u001b[38;5;28;01mreturn\u001b[39;00m pd\u001b[38;5;241m.\u001b[39mDataFrame(data, columns\u001b[38;5;241m=\u001b[39m[\u001b[38;5;124m'\u001b[39m\u001b[38;5;124msource_lang\u001b[39m\u001b[38;5;124m'\u001b[39m, \u001b[38;5;124m'\u001b[39m\u001b[38;5;124mtarget_lang\u001b[39m\u001b[38;5;124m'\u001b[39m, \u001b[38;5;124m'\u001b[39m\u001b[38;5;124mn_gram\u001b[39m\u001b[38;5;124m'\u001b[39m, \u001b[38;5;124m'\u001b[39m\u001b[38;5;124mperplexity\u001b[39m\u001b[38;5;124m'\u001b[39m])\n\u001b[1;32m---> 24\u001b[0m match1 \u001b[38;5;241m=\u001b[39m \u001b[43mmatch\u001b[49m\u001b[43m(\u001b[49m\u001b[43m)\u001b[49m\n",
            "Cell \u001b[1;32mIn[23], line 20\u001b[0m, in \u001b[0;36mmatch\u001b[1;34m()\u001b[0m\n\u001b[0;32m     17\u001b[0m     model \u001b[38;5;241m=\u001b[39m lm(source_lang, n)\n\u001b[0;32m     18\u001b[0m     \u001b[38;5;28;01mfor\u001b[39;00m target_lang \u001b[38;5;129;01min\u001b[39;00m languages:\n\u001b[0;32m     19\u001b[0m       \u001b[38;5;66;03m# print(source_lang, n, target_lang)\u001b[39;00m\n\u001b[1;32m---> 20\u001b[0m       data\u001b[38;5;241m.\u001b[39mappend([source_lang, target_lang, n, \u001b[38;5;28;43meval\u001b[39;49m\u001b[43m(\u001b[49m\u001b[43mmodel\u001b[49m\u001b[43m,\u001b[49m\u001b[43m \u001b[49m\u001b[43mtarget_lang\u001b[49m\u001b[43m)\u001b[49m])\n\u001b[0;32m     22\u001b[0m \u001b[38;5;28;01mreturn\u001b[39;00m pd\u001b[38;5;241m.\u001b[39mDataFrame(data, columns\u001b[38;5;241m=\u001b[39m[\u001b[38;5;124m'\u001b[39m\u001b[38;5;124msource_lang\u001b[39m\u001b[38;5;124m'\u001b[39m, \u001b[38;5;124m'\u001b[39m\u001b[38;5;124mtarget_lang\u001b[39m\u001b[38;5;124m'\u001b[39m, \u001b[38;5;124m'\u001b[39m\u001b[38;5;124mn_gram\u001b[39m\u001b[38;5;124m'\u001b[39m, \u001b[38;5;124m'\u001b[39m\u001b[38;5;124mperplexity\u001b[39m\u001b[38;5;124m'\u001b[39m])\n",
            "Cell \u001b[1;32mIn[22], line 15\u001b[0m, in \u001b[0;36meval\u001b[1;34m(model, target_lang)\u001b[0m\n\u001b[0;32m     12\u001b[0m sum_perplexity \u001b[38;5;241m=\u001b[39m \u001b[38;5;241m0\u001b[39m\n\u001b[0;32m     13\u001b[0m \u001b[38;5;28;01mfor\u001b[39;00m index, row \u001b[38;5;129;01min\u001b[39;00m df\u001b[38;5;241m.\u001b[39miterrows():\n\u001b[0;32m     14\u001b[0m   \u001b[38;5;66;03m# print(row['tweet_text'])\u001b[39;00m\n\u001b[1;32m---> 15\u001b[0m   sum_perplexity \u001b[38;5;241m+\u001b[39m\u001b[38;5;241m=\u001b[39m \u001b[43mperplexity3\u001b[49m\u001b[43m(\u001b[49m\u001b[43mrow\u001b[49m\u001b[43m[\u001b[49m\u001b[38;5;124;43m'\u001b[39;49m\u001b[38;5;124;43mtweet_text\u001b[39;49m\u001b[38;5;124;43m'\u001b[39;49m\u001b[43m]\u001b[49m\u001b[43m,\u001b[49m\u001b[43m \u001b[49m\u001b[43mmodel\u001b[49m\u001b[43m)\u001b[49m\n\u001b[0;32m     17\u001b[0m sum_perplexity \u001b[38;5;241m/\u001b[39m\u001b[38;5;241m=\u001b[39m (\u001b[38;5;28mlen\u001b[39m(df) \u001b[38;5;241m-\u001b[39m \u001b[38;5;241m1\u001b[39m)\n\u001b[0;32m     18\u001b[0m \u001b[38;5;28;01mreturn\u001b[39;00m sum_perplexity\n",
            "Cell \u001b[1;32mIn[22], line 80\u001b[0m, in \u001b[0;36mperplexity3\u001b[1;34m(sentence, ngram_model)\u001b[0m\n\u001b[0;32m     77\u001b[0m probabilities \u001b[38;5;241m=\u001b[39m ngram_model[ngram]\n\u001b[0;32m     79\u001b[0m \u001b[38;5;66;03m# Check if the next character exists in the probability distribution\u001b[39;00m\n\u001b[1;32m---> 80\u001b[0m next_char \u001b[38;5;241m=\u001b[39m \u001b[43msentence\u001b[49m\u001b[43m[\u001b[49m\u001b[43mi\u001b[49m\u001b[38;5;241;43m+\u001b[39;49m\u001b[43mn\u001b[49m\u001b[43m]\u001b[49m\n\u001b[0;32m     81\u001b[0m \u001b[38;5;28;01mif\u001b[39;00m next_char \u001b[38;5;129;01min\u001b[39;00m probabilities:\n\u001b[0;32m     82\u001b[0m     \u001b[38;5;66;03m# Calculate the log probability of the n-gram\u001b[39;00m\n\u001b[0;32m     83\u001b[0m     log_probability \u001b[38;5;241m=\u001b[39m math\u001b[38;5;241m.\u001b[39mlog(probabilities[next_char])\n",
            "\u001b[1;31mIndexError\u001b[0m: string index out of range"
          ]
        }
      ],
      "source": [
        "def match() -> pd.DataFrame:\n",
        "  '''\n",
        "  Return a DataFrame containing one line per every language pair and n_gram.\n",
        "  Each line will contain the perplexity calculated when applying the language model\n",
        "  of the source language on the text of the target language.\n",
        "  :return: a DataFrame containing the perplexity values\n",
        "  '''\n",
        "\n",
        "  languages = ['en', 'es', 'fr', 'in', 'it', 'nl', 'pt', 'tl']\n",
        "  n_grams = [1, 2, 3, 4]\n",
        "  # languages = languages[:2]\n",
        "  # n_grams = n_grams[:2]\n",
        "\n",
        "  data = []\n",
        "  for source_lang in languages:\n",
        "    for n in n_grams:\n",
        "      model = lm(source_lang, n)\n",
        "      for target_lang in languages:\n",
        "        print(source_lang, n, target_lang)\n",
        "        data.append([source_lang, target_lang, n, eval(model, target_lang)])\n",
        "\n",
        "  return pd.DataFrame(data, columns=['source', 'target', 'n', 'perplexity'])\n",
        "\n",
        "match1 = match()"
      ]
    },
    {
      "cell_type": "code",
      "execution_count": null,
      "metadata": {},
      "outputs": [],
      "source": [
        "# match1.to_csv('match1.csv', index=False)\n",
        "with pd.option_context('display.max_rows', None, 'display.max_columns', None):  # more options can be specified also\n",
        "    print(match1.loc[match1['n_gram'] == 3].sort_values(by='perplexity', ascending=False))\n"
      ]
    },
    {
      "cell_type": "markdown",
      "metadata": {
        "id": "pAQoR0dH9C3T"
      },
      "source": [
        "## Part 5\n",
        "Implement the *generate* function which takes a language code, *n*, the prompt (the starting text), the number of tokens to generate, and *r*, which is the random seed for any randomized action you plan to take in your implementation. The function should start generating tokens, one by one, using the language model of the given source language and *n*. The prompt should be used as a starting point for aligning on the probabilities to be used for generating the next token.\n",
        "\n",
        "Note - The generation of the next token should be from the LM's distribution."
      ]
    },
    {
      "cell_type": "code",
      "execution_count": null,
      "metadata": {
        "id": "CpCm24-RrpuA"
      },
      "outputs": [],
      "source": [
        "def generate(lang: str, n: int, prompt: str, number_of_tokens: int, r: int) -> str:\n",
        "  '''\n",
        "  Generate text in the given language using the given parameters.\n",
        "  :param lang: the language of the model\n",
        "  :param n: the n_gram value\n",
        "  :param prompt: the prompt to start the generation\n",
        "  :param number_of_tokens: the number of tokens to generate\n",
        "  :param r: the random seed to use\n",
        "  '''\n",
        "  model = lm(lang, n)\n",
        "  length = len(prompt)\n",
        "  print(prompt)\n",
        "  for i in range(number_of_tokens):\n",
        "    print(i)\n",
        "    ngram = prompt[-n+1:]\n",
        "    print(ngram)\n",
        "    # print(model[ngram])\n",
        "    prompt += random_from_distribution_dict(model[ngram])\n",
        "    # word = np.random.choice(list(model[ngram].keys()), 1, \n",
        "                # list(model[ngram].values()))\n",
        "    # print(word)\n",
        "    # print(type(str(word[0])))\n",
        "    # prompt += str(word[0])\n",
        "    print(prompt)\n",
        "\n",
        "  return prompt\n",
        "\n",
        "def random_from_distribution_dict(dct):\n",
        "    rand_val = np.random.rand()\n",
        "    total = 0\n",
        "    for k, v in dct.items():\n",
        "        total += v\n",
        "        if rand_val <= total:\n",
        "            return k\n",
        "    assert False, 'unreachable'\n",
        "\n",
        "\n",
        "\n",
        "prompt = 'how are you friend?'\n",
        "len(generate('en', 5, prompt, 200, 1))"
      ]
    },
    {
      "cell_type": "code",
      "execution_count": null,
      "metadata": {},
      "outputs": [],
      "source": [
        "r = 42\n",
        "np.random.seed(r)\n",
        "\n",
        "print(np.random.rand())\n",
        "np.random.rand()"
      ]
    },
    {
      "cell_type": "markdown",
      "metadata": {
        "id": "eUWX8Ugu9INH"
      },
      "source": [
        "## Part 6\n",
        "Play with your generate function, try to generate different texts in different language and various values of *n*. No need to submit anything of that."
      ]
    },
    {
      "cell_type": "code",
      "execution_count": null,
      "metadata": {
        "id": "0ykbMBzG9LWn"
      },
      "outputs": [],
      "source": [
        "# print(\"eval(ngrams, 'en') \", eval(lm('en', 4), 'en'))\n",
        "# print(len(lm('en', 3)))\n",
        "print(match1.shape)\n",
        "# get results for the source language 'en' and n_gram 1\n",
        "print(match1.loc[(match1['source_lang'] == 'en') & (match1['source_lang'] == 'en') & (match1['n_gram'] == 1)].sort_values(by='perplexity'))\n",
        "print(match1.loc[(match1['source_lang'] == 'tl') & (match1['source_lang'] == 'tl') & (match1['n_gram'] == 1)].sort_values(by='perplexity'))\n",
        "print(match1.loc[(match1['source_lang'] == 'tl') & (match1['source_lang'] == 'nl') & (match1['n_gram'] == 4)].sort_values(by='perplexity'))\n",
        "print(match1.loc[(match1['source_lang'] == 'tl')].sort_values(by='perplexity'))\n",
        "\n",
        "\n"
      ]
    },
    {
      "cell_type": "markdown",
      "metadata": {
        "id": "q2jNlDISr9aL"
      },
      "source": [
        "# Testing"
      ]
    },
    {
      "cell_type": "markdown",
      "metadata": {
        "id": "uv48OCT_sIYW"
      },
      "source": [
        "Copy the content of the **tests.py** file from the repo and paste below. This will create the results.json file and download it to your machine."
      ]
    },
    {
      "cell_type": "code",
      "execution_count": null,
      "metadata": {
        "id": "JZTlc2ieruqq"
      },
      "outputs": [],
      "source": [
        "####################\n",
        "# PLACE TESTS HERE #\n",
        "\n",
        "# Create tests\n",
        "def test_preprocess():\n",
        "    return {\n",
        "        'vocab_length': len(preprocess()),\n",
        "    }\n",
        "\n",
        "def test_lm():\n",
        "    return {\n",
        "        'english_2_gram_length': len(lm('en', 2)),\n",
        "        'english_3_gram_length': len(lm('en', 3)),\n",
        "        'french_3_gram_length': len(lm('fr', 3)),\n",
        "        'spanish_3_gram_length': len(lm('es', 3)),\n",
        "    }\n",
        "\n",
        "def test_eval():\n",
        "    return {\n",
        "        'english_on_english': round(eval(lm('en', 3), 'en'), 2),\n",
        "        'english_on_french': round(eval(lm('en', 3), 'fr'), 2),\n",
        "        'english_on_spanish': round(eval(lm('en', 3), 'es'), 2),\n",
        "    }\n",
        "\n",
        "def test_match():\n",
        "    df = match()\n",
        "    return {\n",
        "        'df_shape': df.shape,\n",
        "        'en_en_1': df[(df['source'] == 'en') & (df['target'] == 'en') & (df['n'] == 1)]['perplexity'].values[0],\n",
        "        'tl_tl_1': df[(df['source'] == 'tl') & (df['target'] == 'tl') & (df['n'] == 1)]['perplexity'].values[0],\n",
        "        'tl_nl_4': df[(df['source'] == 'tl') & (df['target'] == 'nl') & (df['n'] == 4)]['perplexity'].values[0],\n",
        "    }\n",
        "\n",
        "def test_generate():\n",
        "    return {\n",
        "        'english_2_gram': generate('en', 2, \"I am\", 20, 5),\n",
        "        'english_3_gram': generate('en', 3, \"I am\", 20, 5),\n",
        "        'english_4_gram': generate('en', 4, \"I Love\", 20, 5),\n",
        "        'spanish_2_gram': generate('es', 2, \"Soy\", 20, 5),\n",
        "        'spanish_3_gram': generate('es', 3, \"Soy\", 20, 5),\n",
        "        'french_2_gram': generate('fr', 2, \"Je suis\", 20, 5),\n",
        "        'french_3_gram': generate('fr', 3, \"Je suis\", 20, 5),\n",
        "    }\n",
        "\n",
        "TESTS = [test_preprocess, test_lm, test_eval, test_match, test_generate]\n",
        "\n",
        "# Run tests and save results\n",
        "res = {}\n",
        "for test in TESTS:\n",
        "    print(f'Running test: {test.__name__}')\n",
        "    try:\n",
        "        cur_res = test()\n",
        "        res.update({test.__name__: cur_res})\n",
        "    except Exception as e:\n",
        "        res.update({test.__name__: repr(e)})\n",
        "\n",
        "\n",
        "# save the result file as results.json\n",
        "with open('results_test.json', 'w') as f:\n",
        "    json.dump(res, f, indent=2)\n",
        "\n",
        "\n",
        "# with open('results.json', 'w') as f:\n",
        "#     json.dump(res, f, indent=2)\n",
        "\n",
        "# Download the results.json file\n",
        "# files.download('results.json')\n",
        "\n",
        "####################"
      ]
    },
    {
      "cell_type": "code",
      "execution_count": null,
      "metadata": {
        "colab": {
          "base_uri": "https://localhost:8080/"
        },
        "id": "kCksAA6RisRQ",
        "outputId": "ca69cf19-9e4c-446e-b0c6-3f87b02f1d8c"
      },
      "outputs": [],
      "source": [
        "# Show the local files, results.json should be there now and\n",
        "# also downloaded to your local machine\n",
        "!ls -l"
      ]
    },
    {
      "cell_type": "code",
      "execution_count": null,
      "metadata": {
        "id": "uMSfgUtuiux0"
      },
      "outputs": [],
      "source": []
    }
  ],
  "metadata": {
    "colab": {
      "provenance": []
    },
    "kernelspec": {
      "display_name": "Python 3",
      "name": "python3"
    },
    "language_info": {
      "codemirror_mode": {
        "name": "ipython",
        "version": 3
      },
      "file_extension": ".py",
      "mimetype": "text/x-python",
      "name": "python",
      "nbconvert_exporter": "python",
      "pygments_lexer": "ipython3",
      "version": "3.10.11"
    }
  },
  "nbformat": 4,
  "nbformat_minor": 0
}
